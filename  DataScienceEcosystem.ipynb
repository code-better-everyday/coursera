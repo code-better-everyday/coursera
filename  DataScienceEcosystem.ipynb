{
 "cells": [
  {
   "cell_type": "markdown",
   "id": "6159c5b0-af83-4bb8-b73a-2f09dfb541e0",
   "metadata": {},
   "source": [
    "<h1>Data Science Tools and Ecosystem</h1>"
   ]
  },
  {
   "cell_type": "markdown",
   "id": "98ebbb6a-d08f-4c19-a5ef-b0ec6285574e",
   "metadata": {},
   "source": [
    "In this notebook, Data Science Tools and Ecosystem are summarized."
   ]
  },
  {
   "cell_type": "markdown",
   "id": "31a29bcd-2c17-422f-a7c5-1acdcfaf3828",
   "metadata": {},
   "source": [
    "Some of the popular languages that Data Scientists use are: \n",
    "1. Python\n",
    "2. R\n",
    "3. SQL"
   ]
  },
  {
   "cell_type": "markdown",
   "id": "b5521229-98f4-4409-b8f1-aad166d09878",
   "metadata": {},
   "source": [
    "Some of the commonly used libraries used by Data Scientists include:\n",
    "1. pandas\n",
    "2. numpy\n",
    "3. scikit-learn\n",
    "4. matplotlib\n",
    "5. seaborn\n",
    "6. tensorflow\n"
   ]
  },
  {
   "cell_type": "markdown",
   "id": "5749fee7-0815-4a64-8b99-063ea14382d4",
   "metadata": {},
   "source": [
    "| Data Science Tools      |\n",
    "|------------------------|\n",
    "| Jupyter Notebook       |\n",
    "| RStudio                |\n",
    "| Visual Studio Code     |"
   ]
  },
  {
   "cell_type": "markdown",
   "id": "5de5ef1f-9985-480d-b731-e4f1bbf848a9",
   "metadata": {},
   "source": [
    "### Below are a few examples of evaluating arithmetic expressions in Python."
   ]
  },
  {
   "cell_type": "code",
   "execution_count": 37,
   "id": "6675ba36-8bf5-4b1e-b5fe-689937115656",
   "metadata": {},
   "outputs": [
    {
     "data": {
      "text/plain": [
       "17"
      ]
     },
     "execution_count": 37,
     "metadata": {},
     "output_type": "execute_result"
    }
   ],
   "source": [
    "# This a simple arithmetic expression to mutiply then add integers\n",
    "(3*4)+5"
   ]
  },
  {
   "cell_type": "code",
   "execution_count": 39,
   "id": "9ae821ac-c364-4ad8-9873-c8010bcf1f8f",
   "metadata": {},
   "outputs": [
    {
     "data": {
      "text/plain": [
       "3.33"
      ]
     },
     "execution_count": 39,
     "metadata": {},
     "output_type": "execute_result"
    }
   ],
   "source": [
    "\n",
    "# This will convert 200 minutes to hours by diving by 60.\n",
    "mins = 200\n",
    "hrs = round((mins / 60),2)\n",
    "hrs"
   ]
  },
  {
   "cell_type": "markdown",
   "id": "75fb527f-aab1-43c2-ad5e-fec7621dc7d4",
   "metadata": {},
   "source": [
    "**Objectives:** \n",
    "\n",
    "In this noteboodk we covered the following - \n",
    "\n",
    "- Some of the popular languages used that Data Scientists\n",
    "- Some of the commonly used libraries used by Data Scientists\n",
    "- Some of the popular toosl used by Data Scientists"
   ]
  },
  {
   "cell_type": "markdown",
   "id": "14be38a0-f8ea-478c-8051-c0f88013d590",
   "metadata": {},
   "source": [
    "\n",
    "## Author\n",
    "Abhishek Dhall"
   ]
  },
  {
   "cell_type": "code",
   "execution_count": null,
   "id": "b5ef09ce-0eeb-4bba-a680-a4783e16885b",
   "metadata": {},
   "outputs": [],
   "source": []
  }
 ],
 "metadata": {
  "kernelspec": {
   "display_name": "Python [conda env:base] *",
   "language": "python",
   "name": "conda-base-py"
  },
  "language_info": {
   "codemirror_mode": {
    "name": "ipython",
    "version": 3
   },
   "file_extension": ".py",
   "mimetype": "text/x-python",
   "name": "python",
   "nbconvert_exporter": "python",
   "pygments_lexer": "ipython3",
   "version": "3.12.7"
  }
 },
 "nbformat": 4,
 "nbformat_minor": 5
}
